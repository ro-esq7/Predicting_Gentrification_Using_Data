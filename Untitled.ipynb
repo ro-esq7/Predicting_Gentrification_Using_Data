{
 "cells": [
  {
   "cell_type": "code",
   "execution_count": 1,
   "metadata": {},
   "outputs": [],
   "source": [
    "# Dependencies\n",
    "\n",
    "import pandas as pd\n",
    "import requests\n",
    "import json\n",
    "import pprint\n",
    "import numpy as np\n",
    "import matplotlib.pyplot as plt\n",
    "import requests\n",
    "from census import Census\n",
    "import gmaps\n",
    "from us import states\n",
    "\n",
    "# Census & gmaps API Keys\n",
    "from config import (api_key, gkey)\n",
    "year = 2012\n",
    "c = Census(api_key, year)\n",
    "\n",
    "# Configure gmaps\n",
    "gmaps.configure(api_key=gkey)"
   ]
  },
  {
   "cell_type": "code",
   "execution_count": 2,
   "metadata": {},
   "outputs": [],
   "source": [
    "#Zip Codes\n",
    "file = 'zip_borough.csv'"
   ]
  },
  {
   "cell_type": "code",
   "execution_count": 3,
   "metadata": {},
   "outputs": [],
   "source": [
    "#ZIPCODE LIST FOR FILTERING\n",
    "\n",
    "filedf = pd.read_csv(file)\n",
    "ziplst = filedf['zip'].tolist()"
   ]
  },
  {
   "cell_type": "code",
   "execution_count": null,
   "metadata": {},
   "outputs": [],
   "source": []
  },
  {
   "cell_type": "code",
   "execution_count": null,
   "metadata": {},
   "outputs": [],
   "source": [
    "#Census Data Just Temp to test filtering\n",
    "census_data = c.acs5.get(('NAME', \"B25077_001E\",\"B25064_001E\",\n",
    "                          \"B15003_022E\",\"B19013_001E\"),\n",
    "                           {'for': 'zip code tabulation area:*'})\n"
   ]
  },
  {
   "cell_type": "code",
   "execution_count": null,
   "metadata": {},
   "outputs": [],
   "source": [
    "census_pd = pd.DataFrame(census_data)"
   ]
  },
  {
   "cell_type": "code",
   "execution_count": null,
   "metadata": {},
   "outputs": [],
   "source": [
    "census_pd = census_pd.rename(columns={\"NAME\": \"Name\",\n",
    "                                      \"zip code tabulation area\": \"Zipcode\",\n",
    "                                      \"B25077_001E\":\"Median Home Value\",\n",
    "                                     \"B25064_001E\":\"Median Rent\",\n",
    "                                     \"B15003_022E\":\"Bachelor Degrees\",\n",
    "                                     \"B19013_001E\":\"Median Income\"})"
   ]
  },
  {
   "cell_type": "code",
   "execution_count": null,
   "metadata": {},
   "outputs": [],
   "source": [
    "filedf = filedf.rename(columns={'zip':'Zipcode'})"
   ]
  },
  {
   "cell_type": "code",
   "execution_count": null,
   "metadata": {},
   "outputs": [],
   "source": [
    "#convert into INT to allow Merge\n",
    "census_df = census_pd.astype({'Zipcode':'int64'})"
   ]
  },
  {
   "cell_type": "code",
   "execution_count": null,
   "metadata": {},
   "outputs": [],
   "source": [
    "mergedf = census_df.merge(filedf,on='Zipcode',how='outer')\n",
    "mergedf = mergedf.astype({'Median Home Value':'float64'})"
   ]
  },
  {
   "cell_type": "code",
   "execution_count": null,
   "metadata": {},
   "outputs": [],
   "source": [
    "#drop all NaN\n",
    "mergedf=mergedf.dropna()"
   ]
  },
  {
   "cell_type": "code",
   "execution_count": null,
   "metadata": {},
   "outputs": [],
   "source": []
  },
  {
   "cell_type": "code",
   "execution_count": null,
   "metadata": {},
   "outputs": [],
   "source": []
  },
  {
   "cell_type": "code",
   "execution_count": null,
   "metadata": {},
   "outputs": [],
   "source": [
    "#Cleaned up version of filtering\n",
    "\n",
    "#census_filtered2 = census_df['Zipcode'].isin(ziplst)\n",
    "#census_filtered = census_df[census_filtered2]"
   ]
  },
  {
   "cell_type": "code",
   "execution_count": null,
   "metadata": {},
   "outputs": [],
   "source": []
  },
  {
   "cell_type": "code",
   "execution_count": null,
   "metadata": {},
   "outputs": [],
   "source": [
    "#census_filtered.head()"
   ]
  },
  {
   "cell_type": "code",
   "execution_count": null,
   "metadata": {},
   "outputs": [],
   "source": [
    "mergedf.head()"
   ]
  },
  {
   "cell_type": "code",
   "execution_count": null,
   "metadata": {},
   "outputs": [],
   "source": []
  },
  {
   "cell_type": "code",
   "execution_count": null,
   "metadata": {},
   "outputs": [],
   "source": []
  },
  {
   "cell_type": "code",
   "execution_count": null,
   "metadata": {},
   "outputs": [],
   "source": []
  },
  {
   "cell_type": "code",
   "execution_count": null,
   "metadata": {},
   "outputs": [],
   "source": [
    "#Data Cleaning For Negitive Values\n",
    "\n",
    "filtervalue = mergedf['Median Home Value']>0\n",
    "filtervalue2 = mergedf['Median Rent']>0\n",
    "filtervalue3 = mergedf['Median Income']>0"
   ]
  },
  {
   "cell_type": "code",
   "execution_count": null,
   "metadata": {},
   "outputs": [],
   "source": [
    "mergefilter = mergedf[filtervalue][filtervalue2][filtervalue3]"
   ]
  },
  {
   "cell_type": "code",
   "execution_count": null,
   "metadata": {},
   "outputs": [],
   "source": [
    "mergefilter=mergefilter.dropna()"
   ]
  },
  {
   "cell_type": "code",
   "execution_count": null,
   "metadata": {},
   "outputs": [],
   "source": [
    "#cleaned Data\n",
    "mergefilter.head()"
   ]
  },
  {
   "cell_type": "code",
   "execution_count": null,
   "metadata": {},
   "outputs": [],
   "source": []
  },
  {
   "cell_type": "code",
   "execution_count": null,
   "metadata": {},
   "outputs": [],
   "source": [
    "datalst = []\n",
    "data = {}\n",
    "yearlst = []"
   ]
  },
  {
   "cell_type": "code",
   "execution_count": null,
   "metadata": {},
   "outputs": [],
   "source": [
    "for length in range(5):\n",
    "    c = Census(api_key, year)\n",
    "    \n",
    "    data = c.acs5.get(('NAME', \"B25077_001E\",\"B25064_001E\",\n",
    "                          \"B15003_022E\",\"B19013_001E\"),\n",
    "                           {'for': 'zip code tabulation area:*'})\n",
    "    \n",
    "    data_df = pd.DataFrame(data)\n",
    "    data_df = data_df.rename(columns={\"NAME\": \"Name\",\n",
    "                                      \"zip code tabulation area\": \"Zipcode\",\n",
    "                                      \"B25077_001E\":\"Median Home Value\",\n",
    "                                     \"B25064_001E\":\"Median Rent\",\n",
    "                                     \"B15003_022E\":\"Bachelor Degrees\",\n",
    "                                     \"B19013_001E\":\"Median Income\"})\n",
    "    \n",
    "    \n",
    "    data_df = data_df.astype({'Zipcode':'int64'})   \n",
    "     \n",
    "    mergedata = data_df.merge(filedf,on='Zipcode',how='outer')\n",
    "    \n",
    "    \n",
    "    filtervalue = mergedata['Median Home Value']>0\n",
    "    filtervalue2 = mergedata['Median Rent']>0\n",
    "    filtervalue3 = mergedata['Median Income']>0\n",
    "    \n",
    "    cleandata = mergedata[filtervalue][filtervalue2][filtervalue3]\n",
    "    cleandata = cleandata.dropna()\n",
    "    \n",
    "    \n",
    "    yearlst.append(year)\n",
    "    datalst.append(cleandata)\n",
    "    year += 1"
   ]
  },
  {
   "cell_type": "code",
   "execution_count": null,
   "metadata": {},
   "outputs": [],
   "source": [
    "#pcMHV = (datalst[0]['Median Home Value'] -datalst[-1]['Median Home Value'])/datalst[0]['Median Home Value']"
   ]
  },
  {
   "cell_type": "code",
   "execution_count": null,
   "metadata": {},
   "outputs": [],
   "source": [
    "#c.acs5.get(\"B15003_022E\",{'for': 'zip code tabulation area:*'})"
   ]
  },
  {
   "cell_type": "code",
   "execution_count": null,
   "metadata": {},
   "outputs": [],
   "source": []
  },
  {
   "cell_type": "code",
   "execution_count": null,
   "metadata": {},
   "outputs": [],
   "source": [
    "dfs = [df.set_index('Zipcode') for df in datalst]"
   ]
  },
  {
   "cell_type": "code",
   "execution_count": null,
   "metadata": {},
   "outputs": [],
   "source": [
    "pd.concat(dfs, axis=1)"
   ]
  },
  {
   "cell_type": "code",
   "execution_count": null,
   "metadata": {},
   "outputs": [],
   "source": [
    "yearlst\n"
   ]
  },
  {
   "cell_type": "code",
   "execution_count": null,
   "metadata": {},
   "outputs": [],
   "source": []
  },
  {
   "cell_type": "code",
   "execution_count": null,
   "metadata": {},
   "outputs": [],
   "source": []
  },
  {
   "cell_type": "code",
   "execution_count": null,
   "metadata": {},
   "outputs": [],
   "source": []
  },
  {
   "cell_type": "code",
   "execution_count": null,
   "metadata": {},
   "outputs": [],
   "source": []
  },
  {
   "cell_type": "code",
   "execution_count": null,
   "metadata": {},
   "outputs": [],
   "source": []
  },
  {
   "cell_type": "code",
   "execution_count": null,
   "metadata": {},
   "outputs": [],
   "source": []
  },
  {
   "cell_type": "code",
   "execution_count": null,
   "metadata": {},
   "outputs": [],
   "source": []
  },
  {
   "cell_type": "code",
   "execution_count": null,
   "metadata": {},
   "outputs": [],
   "source": []
  },
  {
   "cell_type": "code",
   "execution_count": null,
   "metadata": {},
   "outputs": [],
   "source": [
    "\n"
   ]
  },
  {
   "cell_type": "code",
   "execution_count": null,
   "metadata": {},
   "outputs": [],
   "source": []
  },
  {
   "cell_type": "code",
   "execution_count": null,
   "metadata": {},
   "outputs": [],
   "source": []
  }
 ],
 "metadata": {
  "kernelspec": {
   "display_name": "Python 3",
   "language": "python",
   "name": "python3"
  },
  "language_info": {
   "codemirror_mode": {
    "name": "ipython",
    "version": 3
   },
   "file_extension": ".py",
   "mimetype": "text/x-python",
   "name": "python",
   "nbconvert_exporter": "python",
   "pygments_lexer": "ipython3",
   "version": "3.7.3"
  }
 },
 "nbformat": 4,
 "nbformat_minor": 2
}
