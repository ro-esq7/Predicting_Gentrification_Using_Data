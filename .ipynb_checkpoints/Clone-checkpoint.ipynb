{
 "cells": [
  {
   "cell_type": "code",
   "execution_count": 1,
   "metadata": {},
   "outputs": [
    {
     "ename": "ModuleNotFoundError",
     "evalue": "No module named 'census'",
     "output_type": "error",
     "traceback": [
      "\u001b[1;31m---------------------------------------------------------------------------\u001b[0m",
      "\u001b[1;31mModuleNotFoundError\u001b[0m                       Traceback (most recent call last)",
      "\u001b[1;32m<ipython-input-1-4c93a4f58f3d>\u001b[0m in \u001b[0;36m<module>\u001b[1;34m\u001b[0m\n\u001b[0;32m      8\u001b[0m \u001b[1;32mimport\u001b[0m \u001b[0mmatplotlib\u001b[0m\u001b[1;33m.\u001b[0m\u001b[0mpyplot\u001b[0m \u001b[1;32mas\u001b[0m \u001b[0mplt\u001b[0m\u001b[1;33m\u001b[0m\u001b[1;33m\u001b[0m\u001b[0m\n\u001b[0;32m      9\u001b[0m \u001b[1;32mimport\u001b[0m \u001b[0mrequests\u001b[0m\u001b[1;33m\u001b[0m\u001b[1;33m\u001b[0m\u001b[0m\n\u001b[1;32m---> 10\u001b[1;33m \u001b[1;32mfrom\u001b[0m \u001b[0mcensus\u001b[0m \u001b[1;32mimport\u001b[0m \u001b[0mCensus\u001b[0m\u001b[1;33m\u001b[0m\u001b[1;33m\u001b[0m\u001b[0m\n\u001b[0m\u001b[0;32m     11\u001b[0m \u001b[1;32mimport\u001b[0m \u001b[0mgmaps\u001b[0m\u001b[1;33m\u001b[0m\u001b[1;33m\u001b[0m\u001b[0m\n\u001b[0;32m     12\u001b[0m \u001b[1;32mfrom\u001b[0m \u001b[0mus\u001b[0m \u001b[1;32mimport\u001b[0m \u001b[0mstates\u001b[0m\u001b[1;33m\u001b[0m\u001b[1;33m\u001b[0m\u001b[0m\n",
      "\u001b[1;31mModuleNotFoundError\u001b[0m: No module named 'census'"
     ]
    }
   ],
   "source": [
    "# Dependencies\n",
    "\n",
    "import pandas as pd\n",
    "import requests\n",
    "import json\n",
    "import pprint\n",
    "import numpy as np\n",
    "import matplotlib.pyplot as plt\n",
    "import requests\n",
    "from census import Census\n",
    "import gmaps\n",
    "from us import states\n",
    "\n",
    "\n",
    "# Census & gmaps API Keys\n",
    "from config import (api_key, gkey)\n",
    "year = 2012\n",
    "c = Census(api_key, year)\n",
    "\n",
    "# Configure gmaps\n",
    "gmaps.configure(api_key=gkey)\n"
   ]
  },
  {
   "cell_type": "code",
   "execution_count": null,
   "metadata": {},
   "outputs": [],
   "source": [
    "datalst = []"
   ]
  },
  {
   "cell_type": "code",
   "execution_count": null,
   "metadata": {},
   "outputs": [],
   "source": [
    "for year in range(2012, 2018):\n",
    "    c = Census(api_key, year) \n",
    "\n",
    "    data = c.acs5.get(('NAME', \"B25077_001E\",\"B25064_001E\", \"B15003_022E\",\"B19013_001E\"), \n",
    "                      {'for': 'zip code tabulation area:*'}) \n",
    "\n",
    "    cleandata = (pd.DataFrame(data) \n",
    "                   .rename(columns={\"NAME\": \"Name\", \n",
    "                                    \"zip code tabulation area\": \"Zipcode\", \n",
    "                                    \"B25077_001E\": \"Median_Home_Value\", \n",
    "                                    \"B25064_001E\": \"Median_Rent\", \n",
    "                                    \"B15003_022E\": \"Bachelor_Degrees\", \n",
    "                                    \"B19013_001E\": \"Median_Income\"}) \n",
    "                   .astype({'Zipcode':'int64'}) \n",
    "                   .query('(Median_Home_Value > 0) & (Median_Rent > 0) & (Median_Income > 0)')\n",
    "                   .dropna()\n",
    "                   .assign(Year = year)\n",
    "                 )\n",
    "\n",
    "    datalst.append(cleandata)\n",
    "\n",
    "\n",
    "final_data = pd.concat(datalst, ignore_index = True)\n",
    "final_data.head()"
   ]
  },
  {
   "cell_type": "code",
   "execution_count": null,
   "metadata": {},
   "outputs": [],
   "source": [
    "#Seperate DF By Year\n",
    "data2012 = final_data.query('(Year == 2012)')\n",
    "data2013 =final_data.query('(Year == 2013)')\n",
    "data2014 =final_data.query('(Year == 2014)')\n",
    "data2015 =final_data.query('(Year == 2015)')\n",
    "data2016 =final_data.query('(Year == 2016)')\n",
    "data2017 =final_data.query('(Year == 2017)')"
   ]
  },
  {
   "cell_type": "code",
   "execution_count": null,
   "metadata": {},
   "outputs": [],
   "source": [
    "#Change DF\n",
    "mergerdf = data2012.merge(data2017,how='outer',on='Name',suffixes=('_2012','_2017'))"
   ]
  },
  {
   "cell_type": "code",
   "execution_count": null,
   "metadata": {},
   "outputs": [],
   "source": [
    "mergedf = mergerdf.dropna()"
   ]
  },
  {
   "cell_type": "code",
   "execution_count": null,
   "metadata": {},
   "outputs": [],
   "source": [
    "mergedf.head()"
   ]
  },
  {
   "cell_type": "code",
   "execution_count": null,
   "metadata": {},
   "outputs": [],
   "source": [
    "#Change in Home Value\n",
    "mergedf['Change_In_Value']=(mergedf['Median_Home_Value_2017']-mergedf['Median_Home_Value_2012'])/(mergedf['Median_Home_Value_2012'])"
   ]
  },
  {
   "cell_type": "code",
   "execution_count": null,
   "metadata": {},
   "outputs": [],
   "source": [
    "#Change in Rent\n",
    "mergedf['Change_In_Rent']=(mergedf['Median_Rent_2017']-mergedf['Median_Rent_2012'])/(mergedf['Median_Rent_2012'])"
   ]
  },
  {
   "cell_type": "code",
   "execution_count": null,
   "metadata": {},
   "outputs": [],
   "source": [
    "#Change in Degree\n",
    "mergedf['Change_In_Degree']=(mergedf['Bachelor_Degrees_2017']-mergedf['Bachelor_Degrees_2012'])/(mergedf['Bachelor_Degrees_2012'])"
   ]
  },
  {
   "cell_type": "code",
   "execution_count": null,
   "metadata": {},
   "outputs": [],
   "source": [
    "#Change in Income\n",
    "mergedf['Change_In_Income']=(mergedf['Median_Income_2017']-mergedf['Median_Income_2012'])/(mergedf['Median_Income_2012'])"
   ]
  },
  {
   "cell_type": "code",
   "execution_count": null,
   "metadata": {},
   "outputs": [],
   "source": [
    "mergedf.head()"
   ]
  },
  {
   "cell_type": "code",
   "execution_count": null,
   "metadata": {},
   "outputs": [],
   "source": [
    "#Change in Percent Data Frame\n",
    "changedf = mergedf[['Zipcode_2012','Name','Change_In_Value','Change_In_Income','Change_In_Degree','Change_In_Rent']]"
   ]
  },
  {
   "cell_type": "code",
   "execution_count": null,
   "metadata": {},
   "outputs": [],
   "source": [
    "changedf = changedf.rename(columns = {'Zipcode_2012':'Zipcode'}).astype({'Zipcode':'int64'})"
   ]
  },
  {
   "cell_type": "code",
   "execution_count": null,
   "metadata": {},
   "outputs": [],
   "source": [
    "####formatteddf = changedf.style.format({'Change_In_Value': \"{:.2%}\",'Change_In_Rent': \"{:.2%}\",'Change_In_Degree': \"{:.2%}\"})"
   ]
  },
  {
   "cell_type": "code",
   "execution_count": null,
   "metadata": {},
   "outputs": [],
   "source": [
    "changedf.head()"
   ]
  },
  {
   "cell_type": "code",
   "execution_count": null,
   "metadata": {},
   "outputs": [],
   "source": [
    "# Source for base data (changes from 2000 to 2016): \n",
    "# https://www.multifamilyexecutive.com/property-management/demographics/the-nations-most-gentrified-neighborhoods_o\n",
    "base = {'Zipcode': [90014, 20001, 77003, 19123, 10039, \n",
    "                    76102, 11211, 19146, 11222, 11216,\n",
    "                    63103, 90013, 78702, 11237, 10026, \n",
    "                    21224, 11221, 20010, 77007, 98402],\n",
    "       'Change_In_Value': [707, 207, 284, 203, 356, \n",
    "                           323, 167, 404, 116, 194, \n",
    "                           250, 133, 212, 111, 219, \n",
    "                           107, 130, 146, 107, 103],\n",
    "       'Change_In_Income': [95, 163, 71, 95, 32, \n",
    "                            103, 79, 51, 56, 48,\n",
    "                            44, 77, 47, 43, 65, \n",
    "                            43, 39, 48, 114, 83],\n",
    "       'Change_In_Degree': [857, 212, 443, 230, 168, \n",
    "                            122, 95, 106, 97, 149, \n",
    "                            153, 199, 201, 125, 92, \n",
    "                            109, 100, 84, 188, 141]}\n",
    "base_df = pd.DataFrame(base)\n",
    "base_df.head()"
   ]
  },
  {
   "cell_type": "code",
   "execution_count": null,
   "metadata": {},
   "outputs": [],
   "source": [
    "#Create a data frame of zip codes that fit criteria or potential gentrification (22 Zip codes)\n",
    "gent_df = changedf.loc[(changedf['Change_In_Value'] >= 1) & \n",
    "                       (changedf['Change_In_Income'] >= 0.4) & \n",
    "                       (changedf['Change_In_Degree'] >= 0.9)]\n",
    "gent_df['Change_In_Value'] = (gent_df['Change_In_Value']*100).round()\n",
    "gent_df['Change_In_Income'] = (gent_df['Change_In_Income']*100).round()\n",
    "gent_df['Change_In_Degree'] = (gent_df['Change_In_Degree']*100).round()\n",
    "gent_df['Change_In_Rent'] = (gent_df['Change_In_Rent']*100).round()\n",
    "gent_df.head()"
   ]
  },
  {
   "cell_type": "code",
   "execution_count": null,
   "metadata": {},
   "outputs": [],
   "source": [
    "#Create a data frame of zip codes that do not fit potential gentrification criteria (also does not include base zip codes)\n",
    "nongent_df = changedf.loc[((changedf['Change_In_Value'] < 1) | \n",
    "                       (changedf['Change_In_Income'] < 0.4) | \n",
    "                       (changedf['Change_In_Degree'] < 0.9)) & \n",
    "                          (changedf['Zipcode'] != (90014 | 20001 | 77003 | 19123 | 10039 | \n",
    "                                                   76102 | 11211 | 19146 | 11222 | 11216 | \n",
    "                                                   63103 | 90013 | 78702 | 11237 | 10026 | \n",
    "                                                   21224 | 11221 | 20010 | 77007 | 98402))]\n",
    "nongent_df['Change_In_Value'] = (nongent_df['Change_In_Value']*100).round()\n",
    "nongent_df['Change_In_Income'] = (nongent_df['Change_In_Income']*100).round()\n",
    "nongent_df['Change_In_Degree'] = (nongent_df['Change_In_Degree']*100).round()\n",
    "nongent_df['Change_In_Rent'] = (nongent_df['Change_In_Rent']*100).round()\n",
    "nongent_df.head()"
   ]
  },
  {
   "cell_type": "code",
   "execution_count": null,
   "metadata": {},
   "outputs": [],
   "source": [
    "# Build the scatter plots for base, nongent, and 'predictive' zipcodes\n",
    "nongentIncX = nongent_df['Change_In_Income']\n",
    "gentIncX = gent_df['Change_In_Income']\n",
    "baseIncX = base_df['Change_In_Income']\n",
    "nongentValY = nongent_df['Change_In_Value']\n",
    "gentValY = gent_df['Change_In_Value']\n",
    "baseValY = base_df['Change_In_Value']\n",
    "\n",
    "plt.figure(figsize=(10,7))\n",
    "plt.scatter(nongentIncX, nongentValY, marker=\"o\", s=(nongent_df['Change_In_Degree']/2), facecolors='blue', \n",
    "            edgecolors=\"black\", alpha=0.5, label='Non-gentrified')\n",
    "plt.scatter(gentIncX, gentValY, marker=\"o\", s=(gent_df['Change_In_Degree']/2), facecolors='green', \n",
    "            edgecolors=\"black\", alpha=0.5, label='On the way')\n",
    "plt.scatter(baseIncX, baseValY, marker=\"o\", s=(base_df['Change_In_Degree']/2), facecolors='red', \n",
    "            edgecolors=\"black\", alpha=0.5, label='Gentrified')\n",
    "\n",
    "plt.title(\"Gentrification Data (by zip code)\")\n",
    "plt.xlabel(\"Change in Median Income (%)\")\n",
    "plt.ylabel(\"Change in Median Home Value (%)\")\n",
    "plt.grid()\n",
    "\n",
    "lgnd = plt.legend(loc=\"upper right\", title=\"Zip Code Type\")\n",
    "lgnd.legendHandles[0]._sizes = [30]\n",
    "lgnd.legendHandles[1]._sizes = [30]\n",
    "lgnd.legendHandles[2]._sizes = [30]\n",
    "\n",
    "side_text = plt.figtext(0.93, 0.5, 'Note: \\n Circle size correlates \\n with % change in bachelors degrees.')\n"
   ]
  },
  {
   "cell_type": "code",
   "execution_count": null,
   "metadata": {},
   "outputs": [],
   "source": [
    "#Avg changes (all zips)\n",
    "aGrad= round(((sum(mergedf['Bachelor_Degrees_2017'])-sum(mergedf['Bachelor_Degrees_2012']))/sum(mergedf['Bachelor_Degrees_2012']))*100, 2)\n",
    "aVals = round((changedf['Change_In_Value'].mean()*100), 2)\n",
    "aInc = round((changedf['Change_In_Income'].mean()*100), 2)\n"
   ]
  },
  {
   "cell_type": "code",
   "execution_count": null,
   "metadata": {},
   "outputs": [],
   "source": [
    "#Build a bar chart for potential gentrified zip codes\n",
    "#also display avg changes for all zip codes\n",
    "x_axis = np.arange(len(gent_df['Zipcode']))\n",
    "vals = gent_df['Change_In_Value']\n",
    "inc = gent_df['Change_In_Income']\n",
    "grad = gent_df['Change_In_Degree']\n",
    "width = (1/3)\n",
    "\n",
    "fig, ax = plt.subplots(figsize=(10,7))\n",
    "\n",
    "valChng = ax.bar(x_axis - width, vals, width, align=\"center\", color='green', alpha=0.3, label='Home Value Change(%)')\n",
    "incChng = ax.bar(x_axis, inc, width, align=\"center\", color='green', alpha=0.6, label='Income Change(%)')\n",
    "gradChng = ax.bar(x_axis + width, grad, width, align=\"center\", color='green', alpha=0.9, label='Change in Bachelor Degree(%)')\n",
    "ax.set_xticks(x_axis)\n",
    "plt.axhline(y=aVals, label=f'Avg Value Change (all zips) {aVals}%', color='blue', alpha=0.3)\n",
    "plt.axhline(y=aInc, label=f'Avg Income Change (all zips) {aInc}%', color='blue', alpha=0.6)\n",
    "plt.axhline(y=aGrad, label=f'Avg Degree Change (all zips) {aGrad}%', color='blue', alpha=0.9)\n",
    "\n",
    "plt.grid()\n",
    "tick_locations = [value for value in x_axis]\n",
    "plt.xticks(tick_locations, gent_df['Zipcode'], rotation=45)\n",
    "plt.title(\"% Changes for 'On-The-Way' Zip Codes\")\n",
    "plt.ylabel(\"% Change\")\n",
    "lgnd = plt.legend(loc=\"upper right\", title=\"Metrics\")"
   ]
  },
  {
   "cell_type": "code",
   "execution_count": null,
   "metadata": {},
   "outputs": [],
   "source": [
    "#Build a bar chart for potential gentrified zip codes\n",
    "#also display avg changes for all zip codes\n",
    "x_axis = np.arange(len(base_df['Zipcode']))\n",
    "vals = base_df['Change_In_Value']\n",
    "inc = base_df['Change_In_Income']\n",
    "grad = base_df['Change_In_Degree']\n",
    "width = (1/3)\n",
    "\n",
    "fig, ax = plt.subplots(figsize=(10,7))\n",
    "\n",
    "valChng = ax.bar(x_axis - width, vals, width, align=\"center\", color='red', alpha=0.3, label='Home Value Change(%)')\n",
    "incChng = ax.bar(x_axis, inc, width, align=\"center\", color='red', alpha=0.6, label='Income Change(%)')\n",
    "gradChng = ax.bar(x_axis + width, grad, width, align=\"center\", color='red', alpha=0.9, label='Change in Bachelor Degree(%)')\n",
    "ax.set_xticks(x_axis)\n",
    "plt.axhline(y=aVals, label=f'Avg Value Change (all zips) {aVals}%', color='blue', alpha=0.3)\n",
    "plt.axhline(y=aInc, label=f'Avg Income Change (all zips) {aInc}%', color='blue', alpha=0.6)\n",
    "plt.axhline(y=aGrad, label=f'Avg Degree Change (all zips) {aGrad}%', color='blue', alpha=0.9)\n",
    "\n",
    "plt.grid()\n",
    "tick_locations = [value for value in x_axis]\n",
    "plt.xticks(tick_locations, base_df['Zipcode'], rotation=45)\n",
    "plt.title(\"% Changes for Fully Gentrified Zip Codes\")\n",
    "plt.ylabel(\"% Change\")\n",
    "lgnd = plt.legend(loc=\"upper right\", title=\"Metrics\")"
   ]
  },
  {
   "cell_type": "code",
   "execution_count": null,
   "metadata": {},
   "outputs": [],
   "source": [
    "top_rent = gent_df.nlargest(15, ['Change_In_Rent'])"
   ]
  },
  {
   "cell_type": "code",
   "execution_count": null,
   "metadata": {},
   "outputs": [],
   "source": []
  }
 ],
 "metadata": {
  "kernelspec": {
   "display_name": "Python 3",
   "language": "python",
   "name": "python3"
  },
  "language_info": {
   "codemirror_mode": {
    "name": "ipython",
    "version": 3
   },
   "file_extension": ".py",
   "mimetype": "text/x-python",
   "name": "python",
   "nbconvert_exporter": "python",
   "pygments_lexer": "ipython3",
   "version": "3.6.9"
  }
 },
 "nbformat": 4,
 "nbformat_minor": 2
}
