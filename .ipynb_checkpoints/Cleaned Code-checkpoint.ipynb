{
 "cells": [
  {
   "cell_type": "code",
   "execution_count": 2,
   "metadata": {},
   "outputs": [],
   "source": [
    "# Dependencies\n",
    "\n",
    "import pandas as pd\n",
    "import requests\n",
    "import json\n",
    "import pprint\n",
    "import numpy as np\n",
    "import matplotlib.pyplot as plt\n",
    "import requests\n",
    "from census import Census\n",
    "import gmaps\n",
    "from us import states\n",
    "\n",
    "# Census & gmaps API Keys\n",
    "from config import (api_key, gkey)\n",
    "year = 2012\n",
    "c = Census(api_key, year)\n",
    "\n",
    "# Configure gmaps\n",
    "gmaps.configure(api_key=gkey)"
   ]
  },
  {
   "cell_type": "code",
   "execution_count": 3,
   "metadata": {},
   "outputs": [],
   "source": [
    "datalst = []"
   ]
  },
  {
   "cell_type": "code",
   "execution_count": null,
   "metadata": {},
   "outputs": [],
   "source": [
    "for year in range(2012, 2018):\n",
    "    c = Census(api_key, year) \n",
    "\n",
    "    data = c.acs5.get(('NAME', \"B25077_001E\",\"B25064_001E\", \"B15003_022E\",\"B19013_001E\"), \n",
    "                      {'for': 'zip code tabulation area:*'}) \n",
    "\n",
    "    cleandata = (pd.DataFrame(data) \n",
    "                   .rename(columns={\"NAME\": \"Name\", \n",
    "                                    \"zip code tabulation area\": \"Zipcode\", \n",
    "                                    \"B25077_001E\": \"Median_Home_Value\", \n",
    "                                    \"B25064_001E\": \"Median_Rent\", \n",
    "                                    \"B15003_022E\": \"Bachelor_Degrees\", \n",
    "                                    \"B19013_001E\": \"Median_Income\"}) \n",
    "                   .astype({'Zipcode':'int64'}) \n",
    "                   .query('(Median_Home_Value > 0) & (Median_Rent > 0) & (Median_Income > 0)')\n",
    "                   .dropna()\n",
    "                   .assign(Year = year)\n",
    "                 )\n",
    "\n",
    "    datalst.append(cleandata)\n",
    "\n",
    "\n",
    "final_data = pd.concat(datalst, ignore_index = True)"
   ]
  },
  {
   "cell_type": "code",
   "execution_count": null,
   "metadata": {},
   "outputs": [],
   "source": [
    "final_data.sortby['Year']\n"
   ]
  },
  {
   "cell_type": "code",
   "execution_count": null,
   "metadata": {},
   "outputs": [],
   "source": []
  },
  {
   "cell_type": "code",
   "execution_count": null,
   "metadata": {},
   "outputs": [],
   "source": []
  },
  {
   "cell_type": "code",
   "execution_count": null,
   "metadata": {},
   "outputs": [],
   "source": []
  }
 ],
 "metadata": {
  "kernelspec": {
   "display_name": "Python 3",
   "language": "python",
   "name": "python3"
  },
  "language_info": {
   "codemirror_mode": {
    "name": "ipython",
    "version": 3
   },
   "file_extension": ".py",
   "mimetype": "text/x-python",
   "name": "python",
   "nbconvert_exporter": "python",
   "pygments_lexer": "ipython3",
   "version": "3.7.3"
  }
 },
 "nbformat": 4,
 "nbformat_minor": 2
}
