{
 "cells": [
  {
   "cell_type": "code",
   "execution_count": 1,
   "metadata": {},
   "outputs": [],
   "source": [
    "# Dependencies\n",
    "\n",
    "import pandas as pd\n",
    "import requests\n",
    "import json\n",
    "import pprint\n",
    "import numpy as np\n",
    "import matplotlib.pyplot as plt\n",
    "import requests\n",
    "from census import Census\n",
    "import gmaps\n",
    "from us import states\n",
    "\n",
    "# Census & gmaps API Keys\n",
    "from config import (api_key, gkey)\n",
    "year = 2012\n",
    "c = Census(api_key, year)\n",
    "\n",
    "# Configure gmaps\n",
    "gmaps.configure(api_key=gkey)"
   ]
  },
  {
   "cell_type": "code",
   "execution_count": 2,
   "metadata": {},
   "outputs": [],
   "source": [
    "#Zip Codes\n",
    "file = 'zip_borough.csv'"
   ]
  },
  {
   "cell_type": "code",
   "execution_count": 3,
   "metadata": {},
   "outputs": [],
   "source": [
    "#ZIPCODE LIST FOR FILTERING\n",
    "\n",
    "filedf = pd.read_csv(file)\n",
    "ziplst = filedf['zip'].tolist()"
   ]
  },
  {
   "cell_type": "code",
   "execution_count": null,
   "metadata": {},
   "outputs": [],
   "source": []
  },
  {
   "cell_type": "code",
   "execution_count": 4,
   "metadata": {},
   "outputs": [],
   "source": [
    "#Census Data Just Temp to test filtering\n",
    "census_data = c.acs5.get(('NAME', \"B25077_001E\",\"B25064_001E\",\n",
    "                          \"B15003_022E\",\"B19013_001E\"),\n",
    "                           {'for': 'zip code tabulation area:*'})\n"
   ]
  },
  {
   "cell_type": "code",
   "execution_count": 5,
   "metadata": {},
   "outputs": [],
   "source": [
    "census_pd = pd.DataFrame(census_data)"
   ]
  },
  {
   "cell_type": "code",
   "execution_count": 6,
   "metadata": {},
   "outputs": [],
   "source": [
    "census_pd = census_pd.rename(columns={\"NAME\": \"Name\",\n",
    "                                      \"zip code tabulation area\": \"Zipcode\",\n",
    "                                      \"B25077_001E\":\"Median Home Value\",\n",
    "                                     \"B25064_001E\":\"Median Rent\",\n",
    "                                     \"B15003_022E\":\"Bachelor Degrees\",\n",
    "                                     \"B19013_001E\":\"Median Income\"})"
   ]
  },
  {
   "cell_type": "code",
   "execution_count": 7,
   "metadata": {},
   "outputs": [],
   "source": [
    "filedf = filedf.rename(columns={'zip':'Zipcode'})"
   ]
  },
  {
   "cell_type": "code",
   "execution_count": 8,
   "metadata": {},
   "outputs": [],
   "source": [
    "#convert into INT to allow Merge\n",
    "census_df = census_pd.astype({'Zipcode':'int64'})"
   ]
  },
  {
   "cell_type": "code",
   "execution_count": 9,
   "metadata": {},
   "outputs": [],
   "source": [
    "mergedf = census_df.merge(filedf,on='Zipcode',how='outer')\n",
    "mergedf = mergedf.astype({'Median Home Value':'float64'})"
   ]
  },
  {
   "cell_type": "code",
   "execution_count": 10,
   "metadata": {},
   "outputs": [],
   "source": [
    "#drop all NaN\n",
    "mergedf=mergedf.dropna()"
   ]
  },
  {
   "cell_type": "code",
   "execution_count": null,
   "metadata": {},
   "outputs": [],
   "source": []
  },
  {
   "cell_type": "code",
   "execution_count": null,
   "metadata": {},
   "outputs": [],
   "source": []
  },
  {
   "cell_type": "code",
   "execution_count": 11,
   "metadata": {},
   "outputs": [],
   "source": [
    "#Cleaned up version of filtering\n",
    "\n",
    "#census_filtered2 = census_df['Zipcode'].isin(ziplst)\n",
    "#census_filtered = census_df[census_filtered2]"
   ]
  },
  {
   "cell_type": "code",
   "execution_count": null,
   "metadata": {},
   "outputs": [],
   "source": []
  },
  {
   "cell_type": "code",
   "execution_count": 12,
   "metadata": {},
   "outputs": [],
   "source": [
    "#census_filtered.head()"
   ]
  },
  {
   "cell_type": "code",
   "execution_count": 13,
   "metadata": {},
   "outputs": [
    {
     "data": {
      "text/html": [
       "<div>\n",
       "<style scoped>\n",
       "    .dataframe tbody tr th:only-of-type {\n",
       "        vertical-align: middle;\n",
       "    }\n",
       "\n",
       "    .dataframe tbody tr th {\n",
       "        vertical-align: top;\n",
       "    }\n",
       "\n",
       "    .dataframe thead th {\n",
       "        text-align: right;\n",
       "    }\n",
       "</style>\n",
       "<table border=\"1\" class=\"dataframe\">\n",
       "  <thead>\n",
       "    <tr style=\"text-align: right;\">\n",
       "      <th></th>\n",
       "      <th>Name</th>\n",
       "      <th>Median Home Value</th>\n",
       "      <th>Median Rent</th>\n",
       "      <th>Bachelor Degrees</th>\n",
       "      <th>Median Income</th>\n",
       "      <th>Zipcode</th>\n",
       "      <th>borough</th>\n",
       "    </tr>\n",
       "  </thead>\n",
       "  <tbody>\n",
       "    <tr>\n",
       "      <th>4586</th>\n",
       "      <td>ZCTA5 10001</td>\n",
       "      <td>699800.0</td>\n",
       "      <td>1771.0</td>\n",
       "      <td>5415.0</td>\n",
       "      <td>76138.0</td>\n",
       "      <td>10001</td>\n",
       "      <td>Manhattan</td>\n",
       "    </tr>\n",
       "    <tr>\n",
       "      <th>4587</th>\n",
       "      <td>ZCTA5 10002</td>\n",
       "      <td>552100.0</td>\n",
       "      <td>803.0</td>\n",
       "      <td>11969.0</td>\n",
       "      <td>32265.0</td>\n",
       "      <td>10002</td>\n",
       "      <td>Manhattan</td>\n",
       "    </tr>\n",
       "    <tr>\n",
       "      <th>4588</th>\n",
       "      <td>ZCTA5 10003</td>\n",
       "      <td>804500.0</td>\n",
       "      <td>1836.0</td>\n",
       "      <td>17110.0</td>\n",
       "      <td>91767.0</td>\n",
       "      <td>10003</td>\n",
       "      <td>Manhattan</td>\n",
       "    </tr>\n",
       "    <tr>\n",
       "      <th>4589</th>\n",
       "      <td>ZCTA5 10004</td>\n",
       "      <td>851800.0</td>\n",
       "      <td>2001.0</td>\n",
       "      <td>911.0</td>\n",
       "      <td>127281.0</td>\n",
       "      <td>10004</td>\n",
       "      <td>Manhattan</td>\n",
       "    </tr>\n",
       "    <tr>\n",
       "      <th>4590</th>\n",
       "      <td>ZCTA5 10005</td>\n",
       "      <td>1000001.0</td>\n",
       "      <td>2001.0</td>\n",
       "      <td>1940.0</td>\n",
       "      <td>120729.0</td>\n",
       "      <td>10005</td>\n",
       "      <td>Manhattan</td>\n",
       "    </tr>\n",
       "  </tbody>\n",
       "</table>\n",
       "</div>"
      ],
      "text/plain": [
       "             Name  Median Home Value  Median Rent  Bachelor Degrees  \\\n",
       "4586  ZCTA5 10001           699800.0       1771.0            5415.0   \n",
       "4587  ZCTA5 10002           552100.0        803.0           11969.0   \n",
       "4588  ZCTA5 10003           804500.0       1836.0           17110.0   \n",
       "4589  ZCTA5 10004           851800.0       2001.0             911.0   \n",
       "4590  ZCTA5 10005          1000001.0       2001.0            1940.0   \n",
       "\n",
       "      Median Income  Zipcode    borough  \n",
       "4586        76138.0    10001  Manhattan  \n",
       "4587        32265.0    10002  Manhattan  \n",
       "4588        91767.0    10003  Manhattan  \n",
       "4589       127281.0    10004  Manhattan  \n",
       "4590       120729.0    10005  Manhattan  "
      ]
     },
     "execution_count": 13,
     "metadata": {},
     "output_type": "execute_result"
    }
   ],
   "source": [
    "mergedf.head()"
   ]
  },
  {
   "cell_type": "code",
   "execution_count": null,
   "metadata": {},
   "outputs": [],
   "source": []
  },
  {
   "cell_type": "code",
   "execution_count": null,
   "metadata": {},
   "outputs": [],
   "source": []
  },
  {
   "cell_type": "code",
   "execution_count": null,
   "metadata": {},
   "outputs": [],
   "source": []
  },
  {
   "cell_type": "code",
   "execution_count": 14,
   "metadata": {},
   "outputs": [],
   "source": [
    "#Data Cleaning For Negitive Values\n",
    "\n",
    "filtervalue = mergedf['Median Home Value']>0\n",
    "filtervalue2 = mergedf['Median Rent']>0\n",
    "filtervalue3 = mergedf['Median Income']>0"
   ]
  },
  {
   "cell_type": "code",
   "execution_count": 15,
   "metadata": {},
   "outputs": [
    {
     "name": "stderr",
     "output_type": "stream",
     "text": [
      "C:\\Users\\Micha\\AppData\\Local\\Programs\\Python\\Python37\\lib\\site-packages\\ipykernel_launcher.py:1: UserWarning: Boolean Series key will be reindexed to match DataFrame index.\n",
      "  \"\"\"Entry point for launching an IPython kernel.\n"
     ]
    }
   ],
   "source": [
    "mergefilter = mergedf[filtervalue][filtervalue2][filtervalue3]"
   ]
  },
  {
   "cell_type": "code",
   "execution_count": 16,
   "metadata": {},
   "outputs": [],
   "source": [
    "mergefilter=mergefilter.dropna()"
   ]
  },
  {
   "cell_type": "code",
   "execution_count": 17,
   "metadata": {},
   "outputs": [
    {
     "data": {
      "text/html": [
       "<div>\n",
       "<style scoped>\n",
       "    .dataframe tbody tr th:only-of-type {\n",
       "        vertical-align: middle;\n",
       "    }\n",
       "\n",
       "    .dataframe tbody tr th {\n",
       "        vertical-align: top;\n",
       "    }\n",
       "\n",
       "    .dataframe thead th {\n",
       "        text-align: right;\n",
       "    }\n",
       "</style>\n",
       "<table border=\"1\" class=\"dataframe\">\n",
       "  <thead>\n",
       "    <tr style=\"text-align: right;\">\n",
       "      <th></th>\n",
       "      <th>Name</th>\n",
       "      <th>Median Home Value</th>\n",
       "      <th>Median Rent</th>\n",
       "      <th>Bachelor Degrees</th>\n",
       "      <th>Median Income</th>\n",
       "      <th>Zipcode</th>\n",
       "      <th>borough</th>\n",
       "    </tr>\n",
       "  </thead>\n",
       "  <tbody>\n",
       "    <tr>\n",
       "      <th>4586</th>\n",
       "      <td>ZCTA5 10001</td>\n",
       "      <td>699800.0</td>\n",
       "      <td>1771.0</td>\n",
       "      <td>5415.0</td>\n",
       "      <td>76138.0</td>\n",
       "      <td>10001</td>\n",
       "      <td>Manhattan</td>\n",
       "    </tr>\n",
       "    <tr>\n",
       "      <th>4587</th>\n",
       "      <td>ZCTA5 10002</td>\n",
       "      <td>552100.0</td>\n",
       "      <td>803.0</td>\n",
       "      <td>11969.0</td>\n",
       "      <td>32265.0</td>\n",
       "      <td>10002</td>\n",
       "      <td>Manhattan</td>\n",
       "    </tr>\n",
       "    <tr>\n",
       "      <th>4588</th>\n",
       "      <td>ZCTA5 10003</td>\n",
       "      <td>804500.0</td>\n",
       "      <td>1836.0</td>\n",
       "      <td>17110.0</td>\n",
       "      <td>91767.0</td>\n",
       "      <td>10003</td>\n",
       "      <td>Manhattan</td>\n",
       "    </tr>\n",
       "    <tr>\n",
       "      <th>4589</th>\n",
       "      <td>ZCTA5 10004</td>\n",
       "      <td>851800.0</td>\n",
       "      <td>2001.0</td>\n",
       "      <td>911.0</td>\n",
       "      <td>127281.0</td>\n",
       "      <td>10004</td>\n",
       "      <td>Manhattan</td>\n",
       "    </tr>\n",
       "    <tr>\n",
       "      <th>4590</th>\n",
       "      <td>ZCTA5 10005</td>\n",
       "      <td>1000001.0</td>\n",
       "      <td>2001.0</td>\n",
       "      <td>1940.0</td>\n",
       "      <td>120729.0</td>\n",
       "      <td>10005</td>\n",
       "      <td>Manhattan</td>\n",
       "    </tr>\n",
       "  </tbody>\n",
       "</table>\n",
       "</div>"
      ],
      "text/plain": [
       "             Name  Median Home Value  Median Rent  Bachelor Degrees  \\\n",
       "4586  ZCTA5 10001           699800.0       1771.0            5415.0   \n",
       "4587  ZCTA5 10002           552100.0        803.0           11969.0   \n",
       "4588  ZCTA5 10003           804500.0       1836.0           17110.0   \n",
       "4589  ZCTA5 10004           851800.0       2001.0             911.0   \n",
       "4590  ZCTA5 10005          1000001.0       2001.0            1940.0   \n",
       "\n",
       "      Median Income  Zipcode    borough  \n",
       "4586        76138.0    10001  Manhattan  \n",
       "4587        32265.0    10002  Manhattan  \n",
       "4588        91767.0    10003  Manhattan  \n",
       "4589       127281.0    10004  Manhattan  \n",
       "4590       120729.0    10005  Manhattan  "
      ]
     },
     "execution_count": 17,
     "metadata": {},
     "output_type": "execute_result"
    }
   ],
   "source": [
    "#cleaned Data\n",
    "mergefilter.head()"
   ]
  },
  {
   "cell_type": "code",
   "execution_count": null,
   "metadata": {},
   "outputs": [],
   "source": []
  },
  {
   "cell_type": "code",
   "execution_count": 18,
   "metadata": {},
   "outputs": [],
   "source": [
    "datalst = []\n",
    "data = {}\n",
    "yearlst = []"
   ]
  },
  {
   "cell_type": "code",
   "execution_count": 19,
   "metadata": {},
   "outputs": [
    {
     "name": "stderr",
     "output_type": "stream",
     "text": [
      "C:\\Users\\Micha\\AppData\\Local\\Programs\\Python\\Python37\\lib\\site-packages\\ipykernel_launcher.py:26: UserWarning: Boolean Series key will be reindexed to match DataFrame index.\n"
     ]
    }
   ],
   "source": [
    "for length in range(5):\n",
    "    c = Census(api_key, year)\n",
    "    \n",
    "    data = c.acs5.get(('NAME', \"B25077_001E\",\"B25064_001E\",\n",
    "                          \"B15003_022E\",\"B19013_001E\"),\n",
    "                           {'for': 'zip code tabulation area:*'})\n",
    "    \n",
    "    data_df = pd.DataFrame(data)\n",
    "    data_df = data_df.rename(columns={\"NAME\": \"Name\",\n",
    "                                      \"zip code tabulation area\": \"Zipcode\",\n",
    "                                      \"B25077_001E\":\"Median Home Value\",\n",
    "                                     \"B25064_001E\":\"Median Rent\",\n",
    "                                     \"B15003_022E\":\"Bachelor Degrees\",\n",
    "                                     \"B19013_001E\":\"Median Income\"})\n",
    "    \n",
    "    \n",
    "    data_df = data_df.astype({'Zipcode':'int64'})   \n",
    "     \n",
    "    mergedata = data_df.merge(filedf,on='Zipcode',how='outer')\n",
    "    \n",
    "    \n",
    "    filtervalue = mergedata['Median Home Value']>0\n",
    "    filtervalue2 = mergedata['Median Rent']>0\n",
    "    filtervalue3 = mergedata['Median Income']>0\n",
    "    \n",
    "    cleandata = mergedata[filtervalue][filtervalue2][filtervalue3]\n",
    "    cleandata = cleandata.dropna()\n",
    "    \n",
    "    yearlst.append(year)\n",
    "    datalst.append(cleandata)\n",
    "    year += 1"
   ]
  },
  {
   "cell_type": "code",
   "execution_count": null,
   "metadata": {},
   "outputs": [],
   "source": []
  },
  {
   "cell_type": "code",
   "execution_count": 20,
   "metadata": {},
   "outputs": [],
   "source": [
    "#c.acs5.get(\"B15003_022E\",{'for': 'zip code tabulation area:*'})"
   ]
  },
  {
   "cell_type": "code",
   "execution_count": 25,
   "metadata": {},
   "outputs": [
    {
     "data": {
      "text/plain": [
       "[2012, 2013, 2014, 2015, 2016]"
      ]
     },
     "execution_count": 25,
     "metadata": {},
     "output_type": "execute_result"
    }
   ],
   "source": [
    "yearlst"
   ]
  },
  {
   "cell_type": "code",
   "execution_count": null,
   "metadata": {},
   "outputs": [],
   "source": []
  },
  {
   "cell_type": "code",
   "execution_count": null,
   "metadata": {},
   "outputs": [],
   "source": []
  },
  {
   "cell_type": "code",
   "execution_count": null,
   "metadata": {},
   "outputs": [],
   "source": [
    "\n"
   ]
  },
  {
   "cell_type": "code",
   "execution_count": null,
   "metadata": {},
   "outputs": [],
   "source": []
  },
  {
   "cell_type": "code",
   "execution_count": null,
   "metadata": {},
   "outputs": [],
   "source": []
  }
 ],
 "metadata": {
  "kernelspec": {
   "display_name": "Python 3",
   "language": "python",
   "name": "python3"
  },
  "language_info": {
   "codemirror_mode": {
    "name": "ipython",
    "version": 3
   },
   "file_extension": ".py",
   "mimetype": "text/x-python",
   "name": "python",
   "nbconvert_exporter": "python",
   "pygments_lexer": "ipython3",
   "version": "3.7.3"
  }
 },
 "nbformat": 4,
 "nbformat_minor": 2
}
